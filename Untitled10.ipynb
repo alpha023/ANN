{
 "cells": [
  {
   "cell_type": "code",
   "execution_count": 16,
   "id": "ae507e17-80a9-4b4a-834c-994d3325804b",
   "metadata": {},
   "outputs": [],
   "source": [
    "import numpy as np\n",
    "import pandas as pd\n",
    "import matplotlib.pyplot as plt"
   ]
  },
  {
   "cell_type": "markdown",
   "id": "367ca0ce-a9fb-4749-9341-3aa0a1892f6a",
   "metadata": {},
   "source": [
    "# GENERATE THE DATA"
   ]
  },
  {
   "cell_type": "code",
   "execution_count": 5,
   "id": "362689e5-0562-4d2e-8652-e6e04b6223e3",
   "metadata": {},
   "outputs": [
    {
     "name": "stdout",
     "output_type": "stream",
     "text": [
      "   Subject_1  Subject_2  Subject_3  Subject_4  Subject_5  Average  Result\n",
      "0         51         92         14         71         60     57.6       1\n",
      "1         20         82         86         74         74     67.2       1\n",
      "2         87         99         23          2         21     46.4       1\n",
      "3         52          1         87         29         37     41.2       1\n",
      "4          1         63         59         20         32     35.0       0\n"
     ]
    },
    {
     "data": {
      "text/plain": [
       "(array([[51., 92., 14., 71., 60.],\n",
       "        [20., 82., 86., 74., 74.],\n",
       "        [87., 99., 23.,  2., 21.],\n",
       "        ...,\n",
       "        [97., 86., 78., 26.,  1.],\n",
       "        [27., 10., 45., 20., 41.],\n",
       "        [31., 31., 70., 21., 77.]]),\n",
       " array([[1],\n",
       "        [1],\n",
       "        [1],\n",
       "        ...,\n",
       "        [1],\n",
       "        [0],\n",
       "        [1]], dtype=int64))"
      ]
     },
     "execution_count": 5,
     "metadata": {},
     "output_type": "execute_result"
    }
   ],
   "source": [
    "\n",
    "# Parameters\n",
    "num_students = 10000\n",
    "num_subjects = 5\n",
    "pass_threshold = 40\n",
    "\n",
    "# Generate random marks for each student in each subject (0 to 100)\n",
    "np.random.seed(42)\n",
    "marks = np.random.randint(0, 101, (num_students, num_subjects))\n",
    "\n",
    "# Calculate average marks for each student\n",
    "average_marks = np.mean(marks, axis=1)\n",
    "\n",
    "# Label students as 'pass' or 'fail'\n",
    "labels = np.where(average_marks >= pass_threshold, 1, 0)\n",
    "\n",
    "# Create a DataFrame to store the results\n",
    "data = pd.DataFrame(marks, columns=[f'Subject_{i+1}' for i in range(num_subjects)])\n",
    "data['Average'] = average_marks\n",
    "data['Result'] = labels\n",
    "\n",
    "# Display the first few rows of the dataset\n",
    "print(data.head())\n",
    "\n",
    "# Save the dataset to a CSV file\n",
    "data.to_csv('student_marks.csv', index=False)\n",
    "\n",
    "\n",
    "df=pd.read_csv(\"student_marks.csv\")\n",
    "X = df.iloc[:, :-1].values\n",
    "y = df.iloc[:, -1].values\n",
    "\n",
    "df_dash=pd.DataFrame(X)\n",
    "X=df_dash.iloc[:,:-1].values\n",
    "y = y.reshape(-1, 1)\n",
    "X,y"
   ]
  },
  {
   "cell_type": "markdown",
   "id": "771aec7b-e781-4d0a-9ad1-1767c280207f",
   "metadata": {},
   "source": [
    "# DESIGN THE MODEL========"
   ]
  },
  {
   "cell_type": "code",
   "execution_count": 37,
   "id": "5b4cc4a7-9476-4249-a2eb-3cfaa2a13e9c",
   "metadata": {},
   "outputs": [],
   "source": [
    "class NeuralNetwork:\n",
    "    def __init__(self, layers):\n",
    "        self.layers = layers\n",
    "        self.weights = []\n",
    "        self.biases = []\n",
    "        self.activations = []\n",
    "        self.loss_history = []\n",
    "        self.learning_rate=0.1\n",
    "        \n",
    "        # Initialize weights and biases\n",
    "        for i in range(len(layers) - 1):\n",
    "            self.weights.append(np.random.randn(layers[i], layers[i + 1]) * 0.1)\n",
    "            self.biases.append(np.zeros((1, layers[i + 1])))\n",
    "\n",
    "    def sigmoid(self, x):\n",
    "        return 1 / (1 + np.exp(-x))\n",
    "\n",
    "    def sigmoid_derivative(self, x):\n",
    "        return x * (1 - x)\n",
    "\n",
    "    def forward(self, X):\n",
    "        activations = [X]\n",
    "        for W, b in zip(self.weights, self.biases):\n",
    "            Z = np.dot(activations[-1], W) + b\n",
    "            A = self.sigmoid(Z)\n",
    "            activations.append(A)\n",
    "        return activations\n",
    "\n",
    "    def backward(self, X, y, activations):\n",
    "        m = X.shape[0]\n",
    "        deltas = [None] * len(self.weights)\n",
    "        L = len(activations) - 1  # index of the last layer\n",
    "        \n",
    "        # Output layer error\n",
    "        deltas[-1] = (activations[-1] - y) * self.sigmoid_derivative(activations[-1])\n",
    "        \n",
    "        # Propagate errors backwards\n",
    "        for l in range(L - 1, 0, -1):\n",
    "            deltas[l - 1] = np.dot(deltas[l], self.weights[l].T) * self.sigmoid_derivative(activations[l])\n",
    "        \n",
    "        # Update weights and biases\n",
    "        for l in range(L):\n",
    "            self.weights[l] -= self.learning_rate * np.dot(activations[l].T, deltas[l]) / m\n",
    "            self.biases[l] -= self.learning_rate * np.sum(deltas[l], axis=0, keepdims=True) / m\n",
    "\n",
    "    def train(self, X, y, epochs, learning_rate=0.01):\n",
    "        # global learning_rate\n",
    "        # learning_rate = learning_rate\n",
    "        for epoch in range(epochs):\n",
    "            activations = self.forward(X)\n",
    "            self.backward(X, y, activations)\n",
    "            if (epoch + 1) % 1000 == 0:\n",
    "                loss = np.mean((y - activations[-1]) ** 2)\n",
    "                self.loss_history.append(loss)\n",
    "                print(f'Epoch {epoch + 1}, Loss: {loss}')\n",
    "\n",
    "    def predict(self, X):\n",
    "        activations = self.forward(X)\n",
    "        return activations[-1]"
   ]
  },
  {
   "cell_type": "markdown",
   "id": "7a9da534-7bc7-4d37-a0f5-b4a2824f79cc",
   "metadata": {},
   "source": [
    "# TRAIN THE MODEL"
   ]
  },
  {
   "cell_type": "code",
   "execution_count": 38,
   "id": "db17da82-4b22-411c-91f9-095fb0f70be2",
   "metadata": {},
   "outputs": [
    {
     "name": "stdout",
     "output_type": "stream",
     "text": [
      "Epoch 1000, Loss: 0.1727797537614152\n",
      "Epoch 2000, Loss: 0.1715583161568387\n",
      "Epoch 3000, Loss: 0.16971464650892198\n",
      "Epoch 4000, Loss: 0.1672487074192608\n",
      "Epoch 5000, Loss: 0.16365308715371366\n",
      "Epoch 6000, Loss: 0.15865108669419828\n",
      "Epoch 7000, Loss: 0.15154690366289533\n",
      "Epoch 8000, Loss: 0.14150108476958262\n",
      "Epoch 9000, Loss: 0.12879248710439753\n",
      "Epoch 10000, Loss: 0.12785669467699182\n"
     ]
    }
   ],
   "source": [
    "nn = NeuralNetwork(layers=[5,20,20, 1])\n",
    "nn.train(X, y, epochs=10000, learning_rate=0.5)"
   ]
  },
  {
   "cell_type": "markdown",
   "id": "08752ee1-d31d-444b-8971-8ef50905da8c",
   "metadata": {},
   "source": [
    "# MAKE PREDICTIONS FOR ACCURACY"
   ]
  },
  {
   "cell_type": "code",
   "execution_count": 41,
   "id": "64cf9697-30ba-4775-87b4-26a6b8663d2c",
   "metadata": {},
   "outputs": [
    {
     "name": "stdout",
     "output_type": "stream",
     "text": [
      "Accuracy: 77.96%\n"
     ]
    }
   ],
   "source": [
    "# Make predictions\n",
    "predictions = nn.predict(X)\n",
    "predictions = np.round(predictions)  # Round to 0 or 1\n",
    "accuracy = np.mean(predictions == y) * 100\n",
    "print(f'Accuracy: {accuracy}%')"
   ]
  },
  {
   "cell_type": "markdown",
   "id": "55132744-4b9a-46ff-8161-853e587f4294",
   "metadata": {},
   "source": [
    "# PLOT THE LEARNING CURVE"
   ]
  },
  {
   "cell_type": "code",
   "execution_count": 42,
   "id": "177de256-9a76-409e-b1dc-e8519fbb9c66",
   "metadata": {},
   "outputs": [
    {
     "data": {
      "image/png": "[encoded data removed]",
      "text/plain": [
       "<Figure size 640x480 with 1 Axes>"
      ]
     },
     "metadata": {},
     "output_type": "display_data"
    }
   ],
   "source": [
    "# Plot the learning curve\n",
    "plt.plot(range(1, len(nn.loss_history) + 1), nn.loss_history)\n",
    "plt.xlabel('Epochs')\n",
    "plt.ylabel('Loss')\n",
    "plt.title('Learning Curve')\n",
    "plt.show()"
   ]
  },
  {
   "cell_type": "code",
   "execution_count": null,
   "id": "3d21a4ec-72f3-4dfc-a2b6-0b6a09ae0f06",
   "metadata": {},
   "outputs": [],
   "source": []
  }
 ],
 "metadata": {
  "kernelspec": {
   "display_name": "Python 3 (ipykernel)",
   "language": "python",
   "name": "python3"
  },
  "language_info": {
   "codemirror_mode": {
    "name": "ipython",
    "version": 3
   },
   "file_extension": ".py",
   "mimetype": "text/x-python",
   "name": "python",
   "nbconvert_exporter": "python",
   "pygments_lexer": "ipython3",
   "version": "3.11.7"
  }
 },
 "nbformat": 4,
 "nbformat_minor": 5
}
